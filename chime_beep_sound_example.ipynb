{
  "nbformat": 4,
  "nbformat_minor": 0,
  "metadata": {
    "colab": {
      "name": "chime_beep_sound_example.ipynb",
      "provenance": [],
      "collapsed_sections": []
    },
    "kernelspec": {
      "name": "python3",
      "display_name": "Python 3"
    },
    "language_info": {
      "name": "python"
    }
  },
  "cells": [
    {
      "cell_type": "markdown",
      "metadata": {
        "id": "jihbgYpcz-wA"
      },
      "source": [
        "# Get your code to make a sound when its finished running"
      ]
    },
    {
      "cell_type": "markdown",
      "metadata": {
        "id": "QwFyrW7_1S3Y"
      },
      "source": [
        "### This won't work on Google Colab but would if running on local machine:"
      ]
    },
    {
      "cell_type": "code",
      "metadata": {
        "colab": {
          "base_uri": "https://localhost:8080/"
        },
        "id": "OP5SeUJjz5qO",
        "outputId": "42cc69d6-1857-433c-f012-5227b8337838"
      },
      "source": [
        "!pip install chime"
      ],
      "execution_count": 1,
      "outputs": [
        {
          "output_type": "stream",
          "text": [
            "Collecting chime\n",
            "\u001b[?25l  Downloading https://files.pythonhosted.org/packages/be/6e/cf430477187780433f7ab142f3f2cdfb0dcb9a981e0a3d0e31342a62035f/chime-0.6.0-py3-none-any.whl (2.3MB)\n",
            "\u001b[K     |████████████████████████████████| 2.3MB 21.5MB/s \n",
            "\u001b[?25hInstalling collected packages: chime\n",
            "Successfully installed chime-0.6.0\n"
          ],
          "name": "stdout"
        }
      ]
    },
    {
      "cell_type": "code",
      "metadata": {
        "id": "HkUDAMdt0Epx"
      },
      "source": [
        "import chime\n",
        "import time"
      ],
      "execution_count": 2,
      "outputs": []
    },
    {
      "cell_type": "code",
      "metadata": {
        "colab": {
          "base_uri": "https://localhost:8080/"
        },
        "id": "7MGF1FiH1q6w",
        "outputId": "9665761e-60e6-4d0e-b7f9-820feb6fde85"
      },
      "source": [
        "chime.themes()"
      ],
      "execution_count": 8,
      "outputs": [
        {
          "output_type": "execute_result",
          "data": {
            "text/plain": [
              "['big-sur', 'chime', 'mario', 'material', 'zelda']"
            ]
          },
          "metadata": {
            "tags": []
          },
          "execution_count": 8
        }
      ]
    },
    {
      "cell_type": "code",
      "metadata": {
        "id": "SYcfBZxx1w38"
      },
      "source": [
        "chime.theme('mario')"
      ],
      "execution_count": 9,
      "outputs": []
    },
    {
      "cell_type": "code",
      "metadata": {
        "colab": {
          "base_uri": "https://localhost:8080/",
          "height": 150
        },
        "id": "rlInpgG731PP",
        "outputId": "9dc69e77-64f3-42fc-da78-bb6736897a4f"
      },
      "source": [
        "# chime.notify_exceptions()"
      ],
      "execution_count": 15,
      "outputs": [
        {
          "output_type": "stream",
          "text": [
            "Error in callback <bound method notify_exceptions.<locals>.Watcher.post_run_cell of <chime.notify_exceptions.<locals>.Watcher object at 0x7fd5aaac0b10>> (for post_run_cell):\n"
          ],
          "name": "stdout"
        },
        {
          "output_type": "error",
          "ename": "TypeError",
          "evalue": "ignored",
          "traceback": [
            "\u001b[0;31m---------------------------------------------------------------------------\u001b[0m",
            "\u001b[0;31mTypeError\u001b[0m                                 Traceback (most recent call last)",
            "\u001b[0;31mTypeError\u001b[0m: post_run_cell() missing 1 required positional argument: 'result'"
          ]
        }
      ]
    },
    {
      "cell_type": "code",
      "metadata": {
        "colab": {
          "base_uri": "https://localhost:8080/"
        },
        "id": "WJ5Zhzlt0Kfy",
        "outputId": "38f9ea2c-35f5-4aa1-9938-4388cbd49e5b"
      },
      "source": [
        "for i in range(1,10):\n",
        "  time.sleep(1)\n",
        "print('done')\n",
        "chime.info()\n"
      ],
      "execution_count": 10,
      "outputs": [
        {
          "output_type": "stream",
          "text": [
            "done\n"
          ],
          "name": "stdout"
        }
      ]
    },
    {
      "cell_type": "markdown",
      "metadata": {
        "id": "OtglFrm43cP6"
      },
      "source": [
        "### For google colab..."
      ]
    },
    {
      "cell_type": "code",
      "metadata": {
        "colab": {
          "base_uri": "https://localhost:8080/",
          "height": 92
        },
        "id": "eHNW-FWc2Ex7",
        "outputId": "1cf8ffa4-d370-464b-b7aa-80a7b72b8692"
      },
      "source": [
        "from IPython.display import Audio, display\n",
        "\n",
        "my_sound = \"https://upload.wikimedia.org/wikipedia/commons/0/05/Beep-09.ogg\"\n",
        "\n",
        "for i in range(1,10):\n",
        "  time.sleep(1)\n",
        "print('done')\n",
        "display(Audio(my_sound, autoplay=True))"
      ],
      "execution_count": 14,
      "outputs": [
        {
          "output_type": "stream",
          "text": [
            "done\n"
          ],
          "name": "stdout"
        },
        {
          "output_type": "display_data",
          "data": {
            "text/html": [
              "\n",
              "                <audio controls=\"controls\" autoplay=\"autoplay\">\n",
              "                    <source src=\"data:audio/ogg;base64,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\" type=\"audio/ogg\" />\n",
              "                    Your browser does not support the audio element.\n",
              "                </audio>\n",
              "              "
            ],
            "text/plain": [
              "<IPython.lib.display.Audio object>"
            ]
          },
          "metadata": {
            "tags": []
          }
        }
      ]
    },
    {
      "cell_type": "code",
      "metadata": {
        "id": "OEAAhg4d2S6M"
      },
      "source": [
        ""
      ],
      "execution_count": null,
      "outputs": []
    }
  ]
}